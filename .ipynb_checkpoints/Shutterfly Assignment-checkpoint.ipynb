{
 "cells": [
  {
   "cell_type": "markdown",
   "metadata": {},
   "source": [
    "# Predicting Purchase Order Category Based on Customer's Online Activity\n",
    "\n",
    "#### Bai Xue"
   ]
  },
  {
   "cell_type": "code",
   "execution_count": 2,
   "metadata": {},
   "outputs": [],
   "source": [
    "import pandas as pd\n",
    "import numpy as np\n",
    "import matplotlib.pyplot as plt\n",
    "import seaborn as sns\n",
    "import datetime"
   ]
  },
  {
   "cell_type": "markdown",
   "metadata": {},
   "source": [
    "## 1. Exploration and understanding of the data sets\t\t\t\t\t\t\t\t\t"
   ]
  },
  {
   "cell_type": "markdown",
   "metadata": {},
   "source": [
    "After reading in the raw data, I want to preserve the list of unique customer IDs that exist in both the online dataset and the order dataset. The purpose of this step is to make sure we are working with truncated datasets that best suit our purpose."
   ]
  },
  {
   "cell_type": "code",
   "execution_count": 3,
   "metadata": {},
   "outputs": [],
   "source": [
    "online = pd.read_csv('online.csv')\n",
    "order = pd.read_csv('order.csv')"
   ]
  },
  {
   "cell_type": "code",
   "execution_count": 7,
   "metadata": {},
   "outputs": [],
   "source": [
    "# preserve the list of customers existing in both datasets\n",
    "df = pd.merge(order, online, on='custno', how='inner')\n",
    "uids = list(df['custno'].unique())"
   ]
  },
  {
   "cell_type": "code",
   "execution_count": 8,
   "metadata": {},
   "outputs": [
    {
     "name": "stdout",
     "output_type": "stream",
     "text": [
      "num of unique customer: 56764\n"
     ]
    }
   ],
   "source": [
    "# num of unique customers\n",
    "print('num of unique customer: ' + str(df['custno'].nunique()))"
   ]
  },
  {
   "cell_type": "code",
   "execution_count": 9,
   "metadata": {},
   "outputs": [],
   "source": [
    "# filter the online and order df by the list of uids\n",
    "order = order[order['custno'].isin(uids)]\n",
    "online =online[online['custno'].isin(uids)]"
   ]
  },
  {
   "cell_type": "code",
   "execution_count": 10,
   "metadata": {},
   "outputs": [
    {
     "name": "stdout",
     "output_type": "stream",
     "text": [
      "(234193, 6)\n",
      "(937805, 7)\n"
     ]
    }
   ],
   "source": [
    "print(order.shape)\n",
    "print(online.shape)"
   ]
  },
  {
   "cell_type": "markdown",
   "metadata": {},
   "source": [
    "Next, I want to understand the underlying distribution of the datasets. Since revenue lies at the heart of any business problem, I want to know: <br><br> 1) how much revenue does an average customer bring in<br> 2) how revenue is distributed across different product categories (prodcat1)."
   ]
  },
  {
   "cell_type": "markdown",
   "metadata": {},
   "source": [
    "### 1.1 how much revenue does an average customer bring in\n"
   ]
  },
  {
   "cell_type": "code",
   "execution_count": 135,
   "metadata": {},
   "outputs": [],
   "source": [
    "dist_rev_per_cust = order.groupby(['custno'], as_index=False)['revenue'].sum()"
   ]
  },
  {
   "cell_type": "code",
   "execution_count": 13,
   "metadata": {},
   "outputs": [
    {
     "data": {
      "text/html": [
       "<div>\n",
       "<style scoped>\n",
       "    .dataframe tbody tr th:only-of-type {\n",
       "        vertical-align: middle;\n",
       "    }\n",
       "\n",
       "    .dataframe tbody tr th {\n",
       "        vertical-align: top;\n",
       "    }\n",
       "\n",
       "    .dataframe thead th {\n",
       "        text-align: right;\n",
       "    }\n",
       "</style>\n",
       "<table border=\"1\" class=\"dataframe\">\n",
       "  <thead>\n",
       "    <tr style=\"text-align: right;\">\n",
       "      <th></th>\n",
       "      <th>custno</th>\n",
       "      <th>revenue</th>\n",
       "    </tr>\n",
       "  </thead>\n",
       "  <tbody>\n",
       "    <tr>\n",
       "      <th>count</th>\n",
       "      <td>56764.000000</td>\n",
       "      <td>56764.000000</td>\n",
       "    </tr>\n",
       "    <tr>\n",
       "      <th>mean</th>\n",
       "      <td>35449.235554</td>\n",
       "      <td>309.360525</td>\n",
       "    </tr>\n",
       "    <tr>\n",
       "      <th>std</th>\n",
       "      <td>20744.770581</td>\n",
       "      <td>941.544494</td>\n",
       "    </tr>\n",
       "    <tr>\n",
       "      <th>min</th>\n",
       "      <td>6.000000</td>\n",
       "      <td>0.010000</td>\n",
       "    </tr>\n",
       "    <tr>\n",
       "      <th>25%</th>\n",
       "      <td>17386.750000</td>\n",
       "      <td>79.790000</td>\n",
       "    </tr>\n",
       "    <tr>\n",
       "      <th>50%</th>\n",
       "      <td>35189.500000</td>\n",
       "      <td>138.660000</td>\n",
       "    </tr>\n",
       "    <tr>\n",
       "      <th>75%</th>\n",
       "      <td>53278.500000</td>\n",
       "      <td>236.500000</td>\n",
       "    </tr>\n",
       "    <tr>\n",
       "      <th>max</th>\n",
       "      <td>71427.000000</td>\n",
       "      <td>43766.720000</td>\n",
       "    </tr>\n",
       "  </tbody>\n",
       "</table>\n",
       "</div>"
      ],
      "text/plain": [
       "             custno       revenue\n",
       "count  56764.000000  56764.000000\n",
       "mean   35449.235554    309.360525\n",
       "std    20744.770581    941.544494\n",
       "min        6.000000      0.010000\n",
       "25%    17386.750000     79.790000\n",
       "50%    35189.500000    138.660000\n",
       "75%    53278.500000    236.500000\n",
       "max    71427.000000  43766.720000"
      ]
     },
     "execution_count": 13,
     "metadata": {},
     "output_type": "execute_result"
    }
   ],
   "source": [
    "dist_rev_per_cust.describe()"
   ]
  },
  {
   "cell_type": "markdown",
   "metadata": {},
   "source": [
    "As shown above, the average revenue generated per customer: $309\n"
   ]
  },
  {
   "cell_type": "markdown",
   "metadata": {},
   "source": [
    "### 1.2 how revenue is distributed across different categories."
   ]
  },
  {
   "cell_type": "code",
   "execution_count": 134,
   "metadata": {},
   "outputs": [],
   "source": [
    "dist_rev_per_prodcat = order.groupby(['prodcat1'], as_index=False)['revenue'].sum()"
   ]
  },
  {
   "cell_type": "code",
   "execution_count": 131,
   "metadata": {},
   "outputs": [
    {
     "data": {
      "text/html": [
       "<div>\n",
       "<style scoped>\n",
       "    .dataframe tbody tr th:only-of-type {\n",
       "        vertical-align: middle;\n",
       "    }\n",
       "\n",
       "    .dataframe tbody tr th {\n",
       "        vertical-align: top;\n",
       "    }\n",
       "\n",
       "    .dataframe thead th {\n",
       "        text-align: right;\n",
       "    }\n",
       "</style>\n",
       "<table border=\"1\" class=\"dataframe\">\n",
       "  <thead>\n",
       "    <tr style=\"text-align: right;\">\n",
       "      <th></th>\n",
       "      <th>prodcat1</th>\n",
       "      <th>revenue</th>\n",
       "    </tr>\n",
       "  </thead>\n",
       "  <tbody>\n",
       "    <tr>\n",
       "      <th>0</th>\n",
       "      <td>1</td>\n",
       "      <td>3085656.17</td>\n",
       "    </tr>\n",
       "    <tr>\n",
       "      <th>1</th>\n",
       "      <td>2</td>\n",
       "      <td>5787141.05</td>\n",
       "    </tr>\n",
       "    <tr>\n",
       "      <th>2</th>\n",
       "      <td>3</td>\n",
       "      <td>2993568.61</td>\n",
       "    </tr>\n",
       "    <tr>\n",
       "      <th>3</th>\n",
       "      <td>4</td>\n",
       "      <td>3214492.18</td>\n",
       "    </tr>\n",
       "    <tr>\n",
       "      <th>4</th>\n",
       "      <td>5</td>\n",
       "      <td>811406.55</td>\n",
       "    </tr>\n",
       "    <tr>\n",
       "      <th>5</th>\n",
       "      <td>7</td>\n",
       "      <td>1668276.29</td>\n",
       "    </tr>\n",
       "  </tbody>\n",
       "</table>\n",
       "</div>"
      ],
      "text/plain": [
       "   prodcat1     revenue\n",
       "0         1  3085656.17\n",
       "1         2  5787141.05\n",
       "2         3  2993568.61\n",
       "3         4  3214492.18\n",
       "4         5   811406.55\n",
       "5         7  1668276.29"
      ]
     },
     "execution_count": 131,
     "metadata": {},
     "output_type": "execute_result"
    }
   ],
   "source": [
    "dist_rev_per_prodcat"
   ]
  },
  {
   "cell_type": "code",
   "execution_count": 19,
   "metadata": {},
   "outputs": [
    {
     "data": {
      "text/plain": [
       "<seaborn.axisgrid.FacetGrid at 0x1a1c26df10>"
      ]
     },
     "execution_count": 19,
     "metadata": {},
     "output_type": "execute_result"
    },
    {
     "data": {
      "image/png": "[encoded data removed]",
      "text/plain": [
       "<Figure size 360x360 with 1 Axes>"
      ]
     },
     "metadata": {
      "needs_background": "light"
     },
     "output_type": "display_data"
    }
   ],
   "source": [
    "sns.catplot(x='prodcat1',y='revenue',data=dist_rev_per_prodcat, kind='bar')"
   ]
  },
  {
   "cell_type": "markdown",
   "metadata": {},
   "source": [
    "As shown in the chart above, the revnue distribution across product categories is highly uneven. It appears that a large portion of the revenus comes from category 2, wheras category 5 contribute significantly less than the others. Therefore it will be valuable to the business if we can somehow <b> predict which product category a customer is going to place an order in. </b> The product category prediction will be useful in various use cases including budget planning, resource utilization, marketing strategy, etc.  "
   ]
  },
  {
   "cell_type": "code",
   "execution_count": 26,
   "metadata": {},
   "outputs": [
    {
     "data": {
      "text/plain": [
       "<matplotlib.axes._subplots.AxesSubplot at 0x1a1e89be90>"
      ]
     },
     "execution_count": 26,
     "metadata": {},
     "output_type": "execute_result"
    },
    {
     "data": {
      "image/png": "[encoded data removed]",
      "text/plain": [
       "<Figure size 432x288 with 1 Axes>"
      ]
     },
     "metadata": {
      "needs_background": "light"
     },
     "output_type": "display_data"
    }
   ],
   "source": [
    "sns.countplot(order.prodcat1)"
   ]
  },
  {
   "cell_type": "markdown",
   "metadata": {},
   "source": [
    "The distribution of the variable prodcat1 is shown as above. This will serve as the response variable (y) in the modeling process."
   ]
  },
  {
   "cell_type": "markdown",
   "metadata": {},
   "source": [
    "## 2. Feature engineering & Data Preparation"
   ]
  },
  {
   "cell_type": "markdown",
   "metadata": {},
   "source": [
    "In order to prepare our data for modeling, there are a series steps of data pre-processing and feature engineering, including:"
   ]
  },
  {
   "cell_type": "markdown",
   "metadata": {},
   "source": [
    "1. Capture any potential seasonality effect: extract month and year from timestamp variables\n",
    "2. Impute missing values\n",
    "3. Treat categorical variables (one-hot encoding)\n",
    "4. Merge the online dataframe with the order dataframe to create the full dataset\n"
   ]
  },
  {
   "cell_type": "markdown",
   "metadata": {},
   "source": [
    "### 2.1 Capture any potential seasonality effect: extract month and year from timestamp variables"
   ]
  },
  {
   "cell_type": "code",
   "execution_count": 28,
   "metadata": {},
   "outputs": [],
   "source": [
    "order['year'] = pd.DatetimeIndex(order['orderdate']).year"
   ]
  },
  {
   "cell_type": "code",
   "execution_count": 29,
   "metadata": {},
   "outputs": [],
   "source": [
    "order['month'] = pd.DatetimeIndex(order['orderdate']).month"
   ]
  },
  {
   "cell_type": "markdown",
   "metadata": {},
   "source": [
    "### 2.2 Impute missing values"
   ]
  },
  {
   "cell_type": "code",
   "execution_count": 31,
   "metadata": {},
   "outputs": [
    {
     "data": {
      "text/plain": [
       "session      0.000000\n",
       "visitor      0.000000\n",
       "dt           0.000000\n",
       "custno       0.000000\n",
       "category     0.000000\n",
       "event1      82.763368\n",
       "event2       0.000000\n",
       "dtype: float64"
      ]
     },
     "execution_count": 31,
     "metadata": {},
     "output_type": "execute_result"
    }
   ],
   "source": [
    "# check how much percentage of values in each column are missing\n",
    "online.isnull().mean() * 100"
   ]
  },
  {
   "cell_type": "markdown",
   "metadata": {},
   "source": [
    "Since ~80% of the values in the column event1 are missing, we need to convert the 'NAN' into something else. Without additional domain knowledge of the data, I assume the variable event1 is ordinal, meaning there is some sense or notion of order amongst its values. Therefore it seems reasonable to convert the 'NAN' values to 0."
   ]
  },
  {
   "cell_type": "code",
   "execution_count": 32,
   "metadata": {},
   "outputs": [],
   "source": [
    "online['event1'].fillna(0, inplace=True)"
   ]
  },
  {
   "cell_type": "markdown",
   "metadata": {},
   "source": [
    "### 2.3 Treat categorical variables (one-hot encoding)\n"
   ]
  },
  {
   "cell_type": "code",
   "execution_count": 33,
   "metadata": {
    "scrolled": true
   },
   "outputs": [
    {
     "name": "stderr",
     "output_type": "stream",
     "text": [
      "/anaconda2/lib/python2.7/site-packages/sklearn/preprocessing/_encoders.py:368: FutureWarning: The handling of integer data will change in version 0.22. Currently, the categories are determined based on the range [0, max(values)], while in the future they will be determined based on the unique values.\n",
      "If you want the future behaviour and silence this warning, you can specify \"categories='auto'\".\n",
      "In case you used a LabelEncoder before this OneHotEncoder to convert the categories to integers, then you can now use the OneHotEncoder directly.\n",
      "  warnings.warn(msg, FutureWarning)\n"
     ]
    }
   ],
   "source": [
    "from sklearn.preprocessing import OneHotEncoder, LabelEncoder\n",
    "\n",
    "# event1\n",
    "ohe = OneHotEncoder()\n",
    "event1_feature_arr = ohe.fit_transform(\n",
    "                              online[['event1']]).toarray()\n",
    "event1_feature_labels = list(online.event1.unique())\n",
    "event1_features = pd.DataFrame(event1_feature_arr, \n",
    "                            columns=event1_feature_labels)\n"
   ]
  },
  {
   "cell_type": "code",
   "execution_count": 34,
   "metadata": {},
   "outputs": [],
   "source": [
    "# event2\n",
    "event2_feature_arr = ohe.fit_transform(\n",
    "                              online[['event2']]).toarray()\n",
    "event2_feature_labels = list(online.event2.unique())\n",
    "event2_features = pd.DataFrame(event2_feature_arr, \n",
    "                            columns=event2_feature_labels)"
   ]
  },
  {
   "cell_type": "code",
   "execution_count": 36,
   "metadata": {},
   "outputs": [],
   "source": [
    "# join the feature dataframes\n",
    "event1_feature_labels = ['e1_'+str(cls_label) for cls_label in list(online.event1.unique())]\n",
    "event2_feature_labels = ['e2_'+str(cls_label) for cls_label in list(online.event2.unique())]\n",
    "event1_features = pd.DataFrame(event1_feature_arr, \n",
    "                            columns=event1_feature_labels)\n",
    "event2_features = pd.DataFrame(event2_feature_arr, \n",
    "                            columns=event2_feature_labels)\n"
   ]
  },
  {
   "cell_type": "code",
   "execution_count": 39,
   "metadata": {},
   "outputs": [],
   "source": [
    "# merge the feature dataframes with the original online dataframe\n",
    "online_ohe = online.reset_index()\\\n",
    "            .merge(event1_features.reset_index(), left_index=True, right_index=True, how='left')\\\n",
    "            .merge(event2_features.reset_index(), left_index=True, right_index=True, how='left')"
   ]
  },
  {
   "cell_type": "code",
   "execution_count": 42,
   "metadata": {},
   "outputs": [
    {
     "data": {
      "text/plain": [
       "Index([u'session', u'visitor', u'dt', u'custno', u'category', u'event1',\n",
       "       u'e1_0.0', u'e1_1.0', u'e1_2.0', u'e1_4.0', u'e1_5.0', u'e1_6.0',\n",
       "       u'e1_7.0', u'e1_8.0', u'e1_9.0', u'e1_10.0', u'e1_11.0', u'event2',\n",
       "       u'e2_1', u'e2_2', u'e2_3', u'e2_4', u'e2_5', u'e2_6', u'e2_7', u'e2_8',\n",
       "       u'e2_9', u'e2_10'],\n",
       "      dtype='object')"
      ]
     },
     "execution_count": 42,
     "metadata": {},
     "output_type": "execute_result"
    }
   ],
   "source": [
    "# preserve the columns we are interested in\n",
    "columns = sum([['session', 'visitor','dt', 'custno', 'category', 'event1'],   \n",
    "               event1_feature_labels, ['event2'], event2_feature_labels], [])\n",
    "online_ohe=online_ohe[columns]\n",
    "online_ohe.columns"
   ]
  },
  {
   "cell_type": "code",
   "execution_count": 43,
   "metadata": {},
   "outputs": [
    {
     "data": {
      "text/html": [
       "<div>\n",
       "<style scoped>\n",
       "    .dataframe tbody tr th:only-of-type {\n",
       "        vertical-align: middle;\n",
       "    }\n",
       "\n",
       "    .dataframe tbody tr th {\n",
       "        vertical-align: top;\n",
       "    }\n",
       "\n",
       "    .dataframe thead th {\n",
       "        text-align: right;\n",
       "    }\n",
       "</style>\n",
       "<table border=\"1\" class=\"dataframe\">\n",
       "  <thead>\n",
       "    <tr style=\"text-align: right;\">\n",
       "      <th></th>\n",
       "      <th>session</th>\n",
       "      <th>visitor</th>\n",
       "      <th>dt</th>\n",
       "      <th>custno</th>\n",
       "      <th>category</th>\n",
       "      <th>event1</th>\n",
       "      <th>e1_0.0</th>\n",
       "      <th>e1_1.0</th>\n",
       "      <th>e1_2.0</th>\n",
       "      <th>e1_4.0</th>\n",
       "      <th>...</th>\n",
       "      <th>e2_1</th>\n",
       "      <th>e2_2</th>\n",
       "      <th>e2_3</th>\n",
       "      <th>e2_4</th>\n",
       "      <th>e2_5</th>\n",
       "      <th>e2_6</th>\n",
       "      <th>e2_7</th>\n",
       "      <th>e2_8</th>\n",
       "      <th>e2_9</th>\n",
       "      <th>e2_10</th>\n",
       "    </tr>\n",
       "  </thead>\n",
       "  <tbody>\n",
       "    <tr>\n",
       "      <th>0</th>\n",
       "      <td>419542</td>\n",
       "      <td>140970</td>\n",
       "      <td>9/16/16 5:03</td>\n",
       "      <td>3840</td>\n",
       "      <td>1</td>\n",
       "      <td>0.0</td>\n",
       "      <td>1.0</td>\n",
       "      <td>0.0</td>\n",
       "      <td>0.0</td>\n",
       "      <td>0.0</td>\n",
       "      <td>...</td>\n",
       "      <td>1.0</td>\n",
       "      <td>0.0</td>\n",
       "      <td>0.0</td>\n",
       "      <td>0.0</td>\n",
       "      <td>0.0</td>\n",
       "      <td>0.0</td>\n",
       "      <td>0.0</td>\n",
       "      <td>0.0</td>\n",
       "      <td>0.0</td>\n",
       "      <td>0.0</td>\n",
       "    </tr>\n",
       "    <tr>\n",
       "      <th>1</th>\n",
       "      <td>3030130</td>\n",
       "      <td>14501</td>\n",
       "      <td>11/13/17 4:58</td>\n",
       "      <td>70400</td>\n",
       "      <td>1</td>\n",
       "      <td>0.0</td>\n",
       "      <td>1.0</td>\n",
       "      <td>0.0</td>\n",
       "      <td>0.0</td>\n",
       "      <td>0.0</td>\n",
       "      <td>...</td>\n",
       "      <td>1.0</td>\n",
       "      <td>0.0</td>\n",
       "      <td>0.0</td>\n",
       "      <td>0.0</td>\n",
       "      <td>0.0</td>\n",
       "      <td>0.0</td>\n",
       "      <td>0.0</td>\n",
       "      <td>0.0</td>\n",
       "      <td>0.0</td>\n",
       "      <td>0.0</td>\n",
       "    </tr>\n",
       "    <tr>\n",
       "      <th>2</th>\n",
       "      <td>2638740</td>\n",
       "      <td>419353</td>\n",
       "      <td>5/24/17 16:10</td>\n",
       "      <td>21248</td>\n",
       "      <td>1</td>\n",
       "      <td>0.0</td>\n",
       "      <td>1.0</td>\n",
       "      <td>0.0</td>\n",
       "      <td>0.0</td>\n",
       "      <td>0.0</td>\n",
       "      <td>...</td>\n",
       "      <td>1.0</td>\n",
       "      <td>0.0</td>\n",
       "      <td>0.0</td>\n",
       "      <td>0.0</td>\n",
       "      <td>0.0</td>\n",
       "      <td>0.0</td>\n",
       "      <td>0.0</td>\n",
       "      <td>0.0</td>\n",
       "      <td>0.0</td>\n",
       "      <td>0.0</td>\n",
       "    </tr>\n",
       "    <tr>\n",
       "      <th>3</th>\n",
       "      <td>880408</td>\n",
       "      <td>90673</td>\n",
       "      <td>10/28/17 13:42</td>\n",
       "      <td>39168</td>\n",
       "      <td>1</td>\n",
       "      <td>0.0</td>\n",
       "      <td>1.0</td>\n",
       "      <td>0.0</td>\n",
       "      <td>0.0</td>\n",
       "      <td>0.0</td>\n",
       "      <td>...</td>\n",
       "      <td>1.0</td>\n",
       "      <td>0.0</td>\n",
       "      <td>0.0</td>\n",
       "      <td>0.0</td>\n",
       "      <td>0.0</td>\n",
       "      <td>0.0</td>\n",
       "      <td>0.0</td>\n",
       "      <td>0.0</td>\n",
       "      <td>0.0</td>\n",
       "      <td>0.0</td>\n",
       "    </tr>\n",
       "    <tr>\n",
       "      <th>4</th>\n",
       "      <td>2612179</td>\n",
       "      <td>191542</td>\n",
       "      <td>5/17/16 6:30</td>\n",
       "      <td>47616</td>\n",
       "      <td>1</td>\n",
       "      <td>0.0</td>\n",
       "      <td>1.0</td>\n",
       "      <td>0.0</td>\n",
       "      <td>0.0</td>\n",
       "      <td>0.0</td>\n",
       "      <td>...</td>\n",
       "      <td>1.0</td>\n",
       "      <td>0.0</td>\n",
       "      <td>0.0</td>\n",
       "      <td>0.0</td>\n",
       "      <td>0.0</td>\n",
       "      <td>0.0</td>\n",
       "      <td>0.0</td>\n",
       "      <td>0.0</td>\n",
       "      <td>0.0</td>\n",
       "      <td>0.0</td>\n",
       "    </tr>\n",
       "  </tbody>\n",
       "</table>\n",
       "<p>5 rows × 28 columns</p>\n",
       "</div>"
      ],
      "text/plain": [
       "   session  visitor              dt  custno  category  event1  e1_0.0  e1_1.0  \\\n",
       "0   419542   140970    9/16/16 5:03    3840         1     0.0     1.0     0.0   \n",
       "1  3030130    14501   11/13/17 4:58   70400         1     0.0     1.0     0.0   \n",
       "2  2638740   419353   5/24/17 16:10   21248         1     0.0     1.0     0.0   \n",
       "3   880408    90673  10/28/17 13:42   39168         1     0.0     1.0     0.0   \n",
       "4  2612179   191542    5/17/16 6:30   47616         1     0.0     1.0     0.0   \n",
       "\n",
       "   e1_2.0  e1_4.0  ...    e2_1  e2_2  e2_3  e2_4  e2_5  e2_6  e2_7  e2_8  \\\n",
       "0     0.0     0.0  ...     1.0   0.0   0.0   0.0   0.0   0.0   0.0   0.0   \n",
       "1     0.0     0.0  ...     1.0   0.0   0.0   0.0   0.0   0.0   0.0   0.0   \n",
       "2     0.0     0.0  ...     1.0   0.0   0.0   0.0   0.0   0.0   0.0   0.0   \n",
       "3     0.0     0.0  ...     1.0   0.0   0.0   0.0   0.0   0.0   0.0   0.0   \n",
       "4     0.0     0.0  ...     1.0   0.0   0.0   0.0   0.0   0.0   0.0   0.0   \n",
       "\n",
       "   e2_9  e2_10  \n",
       "0   0.0    0.0  \n",
       "1   0.0    0.0  \n",
       "2   0.0    0.0  \n",
       "3   0.0    0.0  \n",
       "4   0.0    0.0  \n",
       "\n",
       "[5 rows x 28 columns]"
      ]
     },
     "execution_count": 43,
     "metadata": {},
     "output_type": "execute_result"
    }
   ],
   "source": [
    "online_ohe.head()"
   ]
  },
  {
   "cell_type": "markdown",
   "metadata": {},
   "source": [
    "### 2.4 Merge the online dataframe with the order dataframe\n"
   ]
  },
  {
   "cell_type": "markdown",
   "metadata": {},
   "source": [
    "Here I try to match each order that a customer placed with the online activities that are most relevant to this purchase. I design the matching rules as follows: <br>\n",
    "\n",
    "1. I take into account of the online activies for any user <b> one month </b> before any purchase. The assumption here is that it typically takes less than a month for an average customer to plan for a purchase.\n",
    "2. Each order will be matched with the online activity with a timestamp that is closest for all pairs of timestamps satisfying rule #1. Here I assume that the order category is mostly driven by the <b>latest</b> online activity a customer has prior to the purchase. \n"
   ]
  },
  {
   "cell_type": "code",
   "execution_count": 50,
   "metadata": {},
   "outputs": [],
   "source": [
    "online_ohe['timestamp'] = pd.to_datetime(online_ohe['dt'])\n",
    "order['timestamp'] = pd.to_datetime(order['orderdate'])"
   ]
  },
  {
   "cell_type": "code",
   "execution_count": 51,
   "metadata": {},
   "outputs": [],
   "source": [
    "order.sort_values('timestamp', inplace=True)\n",
    "online_ohe.sort_values('timestamp', inplace=True)"
   ]
  },
  {
   "cell_type": "code",
   "execution_count": 52,
   "metadata": {},
   "outputs": [],
   "source": [
    "fulldata = pd.merge_asof(order, online_ohe, \n",
    "                        on='timestamp',\n",
    "                        by='custno', \n",
    "                        tolerance= pd.Timedelta('2629746s'), # equivalent to 1 month\n",
    "                        allow_exact_matches=False)"
   ]
  },
  {
   "cell_type": "code",
   "execution_count": 53,
   "metadata": {},
   "outputs": [
    {
     "data": {
      "text/plain": [
       "Index([u'custno', u'ordno', u'orderdate', u'prodcat2', u'prodcat1', u'revenue',\n",
       "       u'year', u'month', u'timestamp', u'session', u'visitor', u'dt',\n",
       "       u'category', u'event1', u'e1_0.0', u'e1_1.0', u'e1_2.0', u'e1_4.0',\n",
       "       u'e1_5.0', u'e1_6.0', u'e1_7.0', u'e1_8.0', u'e1_9.0', u'e1_10.0',\n",
       "       u'e1_11.0', u'event2', u'e2_1', u'e2_2', u'e2_3', u'e2_4', u'e2_5',\n",
       "       u'e2_6', u'e2_7', u'e2_8', u'e2_9', u'e2_10'],\n",
       "      dtype='object')"
      ]
     },
     "execution_count": 53,
     "metadata": {},
     "output_type": "execute_result"
    }
   ],
   "source": [
    "fulldata.columns"
   ]
  },
  {
   "cell_type": "code",
   "execution_count": 138,
   "metadata": {},
   "outputs": [],
   "source": [
    "# get rid of records that don't have corresponding online history\n",
    "fulldata.isnull().mean() * 100\n",
    "fulldata.dropna(inplace=True)"
   ]
  },
  {
   "cell_type": "markdown",
   "metadata": {},
   "source": [
    "At this point, we are done with data wrangling and ready for modeling."
   ]
  },
  {
   "cell_type": "markdown",
   "metadata": {},
   "source": [
    "## 3. Sampling and Model Design\t\t\t\t"
   ]
  },
  {
   "cell_type": "code",
   "execution_count": 80,
   "metadata": {},
   "outputs": [],
   "source": [
    "from sklearn.model_selection import train_test_split"
   ]
  },
  {
   "cell_type": "code",
   "execution_count": 82,
   "metadata": {},
   "outputs": [
    {
     "data": {
      "text/plain": [
       "Index([u'custno', u'ordno', u'orderdate', u'prodcat2', u'prodcat1', u'revenue',\n",
       "       u'year', u'month', u'timestamp', u'session', u'visitor', u'dt',\n",
       "       u'category', u'event1', u'e1_0.0', u'e1_1.0', u'e1_2.0', u'e1_4.0',\n",
       "       u'e1_5.0', u'e1_6.0', u'e1_7.0', u'e1_8.0', u'e1_9.0', u'e1_10.0',\n",
       "       u'e1_11.0', u'event2', u'e2_1', u'e2_2', u'e2_3', u'e2_4', u'e2_5',\n",
       "       u'e2_6', u'e2_7', u'e2_8', u'e2_9', u'e2_10'],\n",
       "      dtype='object')"
      ]
     },
     "execution_count": 82,
     "metadata": {},
     "output_type": "execute_result"
    }
   ],
   "source": [
    "fulldata.columns"
   ]
  },
  {
   "cell_type": "code",
   "execution_count": 92,
   "metadata": {},
   "outputs": [],
   "source": [
    "# select relevant columns to form the features matrix\n",
    "lst = ['prodcat2', 'revenue', 'year', 'month', 'category']\n",
    "X = fulldata.loc[:, lst + event1_feature_labels + event2_feature_labels]"
   ]
  },
  {
   "cell_type": "code",
   "execution_count": 93,
   "metadata": {},
   "outputs": [
    {
     "data": {
      "text/plain": [
       "Index([u'prodcat2', u'revenue', u'year', u'month', u'category', u'e1_0.0',\n",
       "       u'e1_1.0', u'e1_2.0', u'e1_4.0', u'e1_5.0', u'e1_6.0', u'e1_7.0',\n",
       "       u'e1_8.0', u'e1_9.0', u'e1_10.0', u'e1_11.0', u'e2_1', u'e2_2', u'e2_3',\n",
       "       u'e2_4', u'e2_5', u'e2_6', u'e2_7', u'e2_8', u'e2_9', u'e2_10'],\n",
       "      dtype='object')"
      ]
     },
     "execution_count": 93,
     "metadata": {},
     "output_type": "execute_result"
    }
   ],
   "source": [
    "X.columns"
   ]
  },
  {
   "cell_type": "code",
   "execution_count": 94,
   "metadata": {},
   "outputs": [],
   "source": [
    "y = fulldata['prodcat1']"
   ]
  },
  {
   "cell_type": "code",
   "execution_count": 102,
   "metadata": {},
   "outputs": [],
   "source": [
    "X_train, X_test, y_train, y_test = train_test_split(X, y, test_size=0.3, random_state=42)"
   ]
  },
  {
   "cell_type": "markdown",
   "metadata": {},
   "source": [
    "Next, I proceed to build a Random Forest Model to classify the order product category"
   ]
  },
  {
   "cell_type": "markdown",
   "metadata": {},
   "source": [
    "## 4. Model generation"
   ]
  },
  {
   "cell_type": "markdown",
   "metadata": {},
   "source": [
    "First, create a random parameter grid to sample from during fitting"
   ]
  },
  {
   "cell_type": "code",
   "execution_count": 181,
   "metadata": {},
   "outputs": [
    {
     "name": "stdout",
     "output_type": "stream",
     "text": [
      "{'bootstrap': [True, False],\n",
      " 'max_depth': [10, 20, 30, 40, 50, 60, 70, 80, 90, 100, None],\n",
      " 'max_features': ['auto', 'sqrt'],\n",
      " 'n_estimators': [10, 20, 30, 40, 50, 60, 70, 80, 90, 100]}\n"
     ]
    }
   ],
   "source": [
    "from sklearn.ensemble import RandomForestClassifier\n",
    "from sklearn.model_selection import RandomizedSearchCV\n",
    "\n",
    "# Number of trees in random forest\n",
    "n_estimators = [int(x) for x in np.linspace(start = 10, stop = 100, num = 10)]\n",
    "# Number of features to consider at every split\n",
    "max_features = ['auto', 'sqrt']\n",
    "# Maximum number of levels in tree\n",
    "max_depth = [int(x) for x in np.linspace(10, 100, num = 10)]\n",
    "max_depth.append(None)\n",
    "# Method of selecting samples for training each tree\n",
    "bootstrap = [True, False]\n",
    "\n",
    "# Create the random grid\n",
    "random_grid = {'n_estimators': n_estimators,\n",
    "               'max_features': max_features,\n",
    "               'max_depth': max_depth,\n",
    "               #'min_samples_split': min_samples_split,\n",
    "               #'min_samples_leaf': min_samples_leaf,\n",
    "               'bootstrap': bootstrap}\n",
    "pprint(random_grid)"
   ]
  },
  {
   "cell_type": "markdown",
   "metadata": {},
   "source": [
    "Secondly, use the random grid to search for best hyperparameters"
   ]
  },
  {
   "cell_type": "code",
   "execution_count": 182,
   "metadata": {},
   "outputs": [
    {
     "name": "stdout",
     "output_type": "stream",
     "text": [
      "Fitting 3 folds for each of 10 candidates, totalling 30 fits\n"
     ]
    },
    {
     "name": "stderr",
     "output_type": "stream",
     "text": [
      "[Parallel(n_jobs=-1)]: Using backend LokyBackend with 4 concurrent workers.\n",
      "[Parallel(n_jobs=-1)]: Done  30 out of  30 | elapsed:  1.4min finished\n"
     ]
    },
    {
     "data": {
      "text/plain": [
       "RandomizedSearchCV(cv=3, error_score='raise-deprecating',\n",
       "          estimator=RandomForestClassifier(bootstrap=True, class_weight=None, criterion='gini',\n",
       "            max_depth=None, max_features='auto', max_leaf_nodes=None,\n",
       "            min_impurity_decrease=0.0, min_impurity_split=None,\n",
       "            min_samples_leaf=1, min_samples_split=2,\n",
       "            min_weight_fraction_leaf=0.0, n_estimators='warn', n_jobs=None,\n",
       "            oob_score=False, random_state=None, verbose=0,\n",
       "            warm_start=False),\n",
       "          fit_params=None, iid='warn', n_iter=10, n_jobs=-1,\n",
       "          param_distributions={'n_estimators': [10, 20, 30, 40, 50, 60, 70, 80, 90, 100], 'max_features': ['auto', 'sqrt'], 'bootstrap': [True, False], 'max_depth': [10, 20, 30, 40, 50, 60, 70, 80, 90, 100, None]},\n",
       "          pre_dispatch='2*n_jobs', random_state=42, refit=True,\n",
       "          return_train_score='warn', scoring=None, verbose=2)"
      ]
     },
     "execution_count": 182,
     "metadata": {},
     "output_type": "execute_result"
    }
   ],
   "source": [
    "# First create the base model to tune\n",
    "rf = RandomForestClassifier()\n",
    "# Random search of parameters, using 3 fold cross validation, \n",
    "rf_random = RandomizedSearchCV(estimator = rf, param_distributions = random_grid, n_iter = 10, cv = 3, verbose=2, random_state=42, n_jobs = -1)\n",
    "# Fit the random search model\n",
    "rf_random.fit(X_train, y_train)"
   ]
  },
  {
   "cell_type": "markdown",
   "metadata": {},
   "source": [
    "***Note: the random grid is deliberately designed to be limited to keep model running time within a reasonable limit."
   ]
  },
  {
   "cell_type": "markdown",
   "metadata": {},
   "source": [
    "We now have our best model. Its hyperparameters are as follows:"
   ]
  },
  {
   "cell_type": "code",
   "execution_count": 183,
   "metadata": {},
   "outputs": [
    {
     "data": {
      "text/plain": [
       "{'bootstrap': True,\n",
       " 'max_depth': 40,\n",
       " 'max_features': 'sqrt',\n",
       " 'n_estimators': 90}"
      ]
     },
     "execution_count": 183,
     "metadata": {},
     "output_type": "execute_result"
    }
   ],
   "source": [
    "# print out the best model\n",
    "rf_random.best_params_"
   ]
  },
  {
   "cell_type": "markdown",
   "metadata": {},
   "source": [
    "## 5. Model evaluation"
   ]
  },
  {
   "cell_type": "code",
   "execution_count": 184,
   "metadata": {},
   "outputs": [],
   "source": [
    "def evaluate(model, test_features, test_labels):\n",
    "    predictions = model.predict(test_features)\n",
    "    errors = abs(predictions - test_labels)\n",
    "    mape = 100 * np.mean(errors / test_labels)\n",
    "    accuracy = 100 - mape\n",
    "    print('Model Performance')\n",
    "    print('Average Error: {:0.4f} degrees.'.format(np.mean(errors)))\n",
    "    print('Accuracy = {:0.2f}%.'.format(accuracy))\n",
    "    \n",
    "    return accuracy"
   ]
  },
  {
   "cell_type": "code",
   "execution_count": 187,
   "metadata": {},
   "outputs": [
    {
     "name": "stdout",
     "output_type": "stream",
     "text": [
      "Model Performance\n",
      "Average Error: 0.4963 degrees.\n",
      "Accuracy = 79.45%.\n"
     ]
    }
   ],
   "source": [
    "# create a base model as baseline\n",
    "base_model = RandomForestClassifier()\n",
    "base_model.fit(X_train, y_train)\n",
    "base_accuracy = evaluate(base_model, X_test, y_test)"
   ]
  },
  {
   "cell_type": "code",
   "execution_count": 188,
   "metadata": {},
   "outputs": [
    {
     "name": "stdout",
     "output_type": "stream",
     "text": [
      "Model Performance\n",
      "Average Error: 0.4229 degrees.\n",
      "Accuracy = 81.45%.\n"
     ]
    }
   ],
   "source": [
    "best_random = rf_random.best_estimator_\n",
    "random_accuracy = evaluate(best_random, X_test, y_test)"
   ]
  },
  {
   "cell_type": "code",
   "execution_count": 189,
   "metadata": {},
   "outputs": [
    {
     "name": "stdout",
     "output_type": "stream",
     "text": [
      "Improvement of 2.52%.\n"
     ]
    }
   ],
   "source": [
    "# compare our best random forest model with the baseline model\n",
    "print('Improvement of {:0.2f}%.'.format( 100 * (random_accuracy - base_accuracy) / base_accuracy))"
   ]
  },
  {
   "cell_type": "markdown",
   "metadata": {},
   "source": [
    "We have achieved an improvement in accuracy of 2.52%."
   ]
  },
  {
   "cell_type": "markdown",
   "metadata": {},
   "source": [
    "## 6. Summary of results\t\t\t\t\t\t\t\t"
   ]
  },
  {
   "cell_type": "markdown",
   "metadata": {},
   "source": [
    "\n",
    "The project aims to discover insights about how to increae revenue with a predictive multi-class classification model.\n",
    "The initial exploratory data analysis suggests that the revenue is unevenly distributed across different product categories. Therefore it will be beneficial for the business if we can predict which product category a customer is going to place an order in based on the person's online activities. This information will be useful for various purposes including: resources planning, budgeting, marketing, etc. "
   ]
  },
  {
   "cell_type": "markdown",
   "metadata": {},
   "source": [
    "Next, I took a series of steps to pre-process the data, including imputing missing values and treating categorical variables with one-hot encoding. I also developed rules for how best to associate each order with its most relevant online activities.\n"
   ]
  },
  {
   "cell_type": "markdown",
   "metadata": {},
   "source": [
    "Then I built a random forest model to classify the product category. Using random search with cross validation, I was able to find the best hyperparameters configuration (in my pre-defined hyperparameters space). Lastly, I evaluate the model performance on test data and compare it with the baseline model. My final model achieved an accuracy of 81.45%, with an improvement of 2.52% from the baseline."
   ]
  }
 ],
 "metadata": {
  "kernelspec": {
   "display_name": "Python 2",
   "language": "python",
   "name": "python2"
  },
  "language_info": {
   "codemirror_mode": {
    "name": "ipython",
    "version": 2
   },
   "file_extension": ".py",
   "mimetype": "text/x-python",
   "name": "python",
   "nbconvert_exporter": "python",
   "pygments_lexer": "ipython2",
   "version": "2.7.15"
  }
 },
 "nbformat": 4,
 "nbformat_minor": 2
}
